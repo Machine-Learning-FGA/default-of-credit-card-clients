{
 "cells": [
  {
   "cell_type": "markdown",
   "metadata": {},
   "source": [
    "# Predição Inadimplência Cartão de Crédito"
   ]
  },
  {
   "cell_type": "markdown",
   "metadata": {},
   "source": [
    "## Descrição dos dados\n",
    "\n",
    "* *X1:* Quanto foi dado de crédito em dólar (individual e família) (montante de crédito concedido)\n",
    "* *X2:* Gênero -> 1 = Masculino, 2 = Feminino\n",
    "* *X3:* Educação -> 1 = Pós-Graduação, 2 = Universidade, 3 = Ensino Médio, 4 = Outros\n",
    "* *X4:* Estado Civil -> 1 = Casado, 2 = Solteiro, 3 = Outros\n",
    "* *X5:* Idade\n",
    "* *X6 - X11:* Histórico de Pagamentos -> X6 = Setembro à X11 = Abril (PAY_...)\n",
    "    * -1: Pagou devidamente\n",
    "    *  1: Pagou com atraso de um mês\n",
    "    *  2: Pagou com atraso de dois meses\n",
    "    *  3: Pagou com atraso de três meses\n",
    "    ...\n",
    "    \n",
    "* *X12 - X17:* Quantia de declaração de conta -> X12 = Setembro à X17 = Abril (BILL_AMT_...)\n",
    "* *X18 -> X23:* Montante do pagamento anterior -> X18 = Setembro à X23 = Abril (PAY_AMT_...)\n",
    "* *X24:* Se a pessoa pagou, variável de interesse"
   ]
  }
 ],
 "metadata": {
  "kernelspec": {
   "display_name": "Python 3",
   "language": "python",
   "name": "python3"
  },
  "language_info": {
   "codemirror_mode": {
    "name": "ipython",
    "version": 3
   },
   "file_extension": ".py",
   "mimetype": "text/x-python",
   "name": "python",
   "nbconvert_exporter": "python",
   "pygments_lexer": "ipython3",
   "version": "3.7.0"
  }
 },
 "nbformat": 4,
 "nbformat_minor": 2
}
