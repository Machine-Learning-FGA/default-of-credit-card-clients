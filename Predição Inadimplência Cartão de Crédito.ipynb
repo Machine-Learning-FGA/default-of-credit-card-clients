{
 "cells": [
  {
   "cell_type": "markdown",
   "metadata": {},
   "source": [
    "# Predição Inadimplência Cartão de Crédito"
   ]
  },
  {
   "cell_type": "markdown",
   "metadata": {},
   "source": [
    "## Descrição dos dados\n",
    "\n",
    "* *X1:* Quanto foi dado de crédito em dólar (individual e família) (montante de crédito concedido)\n",
    "* *X2:* Gênero -> 1 = Masculino, 2 = Feminino\n",
    "* *X3:* Educação -> 1 = Pós-Graduação, 2 = Universidade, 3 = Ensino Médio, 4 = Outros\n",
    "* *X4:* Estado Civil -> 1 = Casado, 2 = Solteiro, 3 = Outros\n",
    "* *X5:* Idade\n",
    "* *X6 - X11:* Histórico de Pagamentos -> X6 = Setembro à X11 = Abril (PAY_...)\n",
    "    * -1: Pagou devidamente\n",
    "    *  1: Pagou com atraso de um mês\n",
    "    *  2: Pagou com atraso de dois meses\n",
    "    *  3: Pagou com atraso de três meses\n",
    "    ...\n",
    "    \n",
    "* *X12 - X17:* Quantia de declaração de conta -> X12 = Setembro à X17 = Abril (BILL_AMT_...)\n",
    "* *X18 -> X23:* Montante do pagamento anterior -> X18 = Setembro à X23 = Abril (PAY_AMT_...)\n",
    "* *X24:* Se a pessoa pagou, variável de interesse"
   ]
  },
  {
   "cell_type": "code",
   "execution_count": 1,
   "metadata": {
    "scrolled": true
   },
   "outputs": [],
   "source": [
    "import pandas as pd\n",
    "import numpy as np\n",
    "\n",
    "df = pd.read_excel('default of credit card clients.xls')\n",
    "df = df.iloc[1:]\n",
    "\n",
    "# Drop records with minimum data\n",
    "df['X3'].replace(0, np.nan, inplace=True)\n",
    "df['X4'].replace(0, np.nan, inplace=True)\n",
    "df.dropna(inplace=True, subset=['X3', 'X4'])\n",
    "\n",
    "# # Substitute discrete values - Median\n",
    "# for i in range(6, 12):\n",
    "#     x_idx = f'X{str(i)}'\n",
    "    \n",
    "#     df[x_idx].replace(0, np.nan, inplace=True)\n",
    "#     df[x_idx].fillna(df[x_idx].median(skipna=True), inplace=True)\n",
    "    \n",
    "# Substitute discrete values - Mode\n",
    "for i in range(6, 12):\n",
    "    x_idx = f'X{str(i)}'\n",
    "    \n",
    "    np_array = df[x_idx].values\n",
    "    mode = pd.Series(np_array[np_array != 0]).mode()[0]\n",
    "    \n",
    "    df[x_idx].replace(0, np.nan, inplace=True)\n",
    "    df[x_idx].fillna(mode, inplace=True)\n",
    "\n",
    "# Substitute real values\n",
    "for i in range(12, 24):\n",
    "    x_idx = f'X{str(i)}'\n",
    "    sum_value = pd.to_numeric(df[x_idx], errors='coerce').sum()\n",
    "    amount = len(df[x_idx].nonzero()[0])\n",
    "    mean = sum_value/amount\n",
    "    \n",
    "    df[x_idx].replace(0, mean, inplace=True)"
   ]
  },
  {
   "cell_type": "code",
   "execution_count": 5,
   "metadata": {},
   "outputs": [
    {
     "data": {
      "image/png": "[encoded data removed]",
      "text/plain": [
       "<Figure size 720x720 with 2 Axes>"
      ]
     },
     "metadata": {
      "needs_background": "light"
     },
     "output_type": "display_data"
    }
   ],
   "source": [
    "# Heatmap\n",
    "import seaborn as sns\n",
    "from matplotlib import pyplot\n",
    "\n",
    "df = df.astype(float)\n",
    "\n",
    "pyplot.figure(figsize=(10, 10))\n",
    "sns.heatmap(df.corr(), square=True, cmap='RdYlGn')\n",
    "\n",
    "pyplot.show()"
   ]
  },
  {
   "cell_type": "code",
   "execution_count": 3,
   "metadata": {},
   "outputs": [],
   "source": [
    "# Split training data and test data\n",
    "from sklearn.model_selection import train_test_split\n",
    "\n",
    "data = df.iloc[:, [x for x in range(23)]]\n",
    "target = df.iloc[:, [23]]\n",
    "\n",
    "X_train, X_test, y_train, y_test = train_test_split(\n",
    "    data, target, test_size=0.33, random_state=42, stratify=target)"
   ]
  },
  {
   "cell_type": "code",
   "execution_count": 4,
   "metadata": {},
   "outputs": [
    {
     "name": "stderr",
     "output_type": "stream",
     "text": [
      "/home/vinicius/mlEnv/lib/python3.6/site-packages/ipykernel_launcher.py:4: DataConversionWarning: A column-vector y was passed when a 1d array was expected. Please change the shape of y to (n_samples, ), for example using ravel().\n",
      "  after removing the cwd from sys.path.\n"
     ]
    },
    {
     "data": {
      "text/plain": [
       "0.7686778700141729"
      ]
     },
     "execution_count": 4,
     "metadata": {},
     "output_type": "execute_result"
    }
   ],
   "source": [
    "# Using KNN mathematical model to calculate performance.\n",
    "from sklearn.neighbors import KNeighborsClassifier\n",
    "\n",
    "knn = KNeighborsClassifier(n_neighbors=6)\n",
    "knn.fit(X_train, y_train)\n",
    "\n",
    "y_pred = knn.predict(X_test)\n",
    "\n",
    "knn.score(X_test, y_test)"
   ]
  }
 ],
 "metadata": {
  "kernelspec": {
   "display_name": "Python 3",
   "language": "python",
   "name": "python3"
  },
  "language_info": {
   "codemirror_mode": {
    "name": "ipython",
    "version": 3
   },
   "file_extension": ".py",
   "mimetype": "text/x-python",
   "name": "python",
   "nbconvert_exporter": "python",
   "pygments_lexer": "ipython3",
   "version": "3.6.2"
  }
 },
 "nbformat": 4,
 "nbformat_minor": 2
}
