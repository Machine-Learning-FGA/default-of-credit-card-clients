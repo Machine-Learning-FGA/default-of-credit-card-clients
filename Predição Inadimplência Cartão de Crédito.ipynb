{
 "cells": [
  {
   "cell_type": "markdown",
   "metadata": {},
   "source": [
    "# Predição Inadimplência Cartão de Crédito"
   ]
  },
  {
   "cell_type": "markdown",
   "metadata": {},
   "source": [
    "## Descrição dos dados\n",
    "\n",
    "* *X1:* Quanto foi dado de crédito em dólar (individual e família) (montante de crédito concedido)\n",
    "* *X2:* Gênero -> 1 = Masculino, 2 = Feminino\n",
    "* *X3:* Educação -> 1 = Pós-Graduação, 2 = Universidade, 3 = Ensino Médio, 4 = Outros\n",
    "* *X4:* Estado Civil -> 1 = Casado, 2 = Solteiro, 3 = Outros\n",
    "* *X5:* Idade\n",
    "* *X6 - X11:* Histórico de Pagamentos -> X6 = Setembro à X11 = Abril (PAY_...)\n",
    "    * -1: Pagou devidamente\n",
    "    *  1: Pagou com atraso de um mês\n",
    "    *  2: Pagou com atraso de dois meses\n",
    "    *  3: Pagou com atraso de três meses\n",
    "    ...\n",
    "    \n",
    "* *X12 - X17:* Quantia de declaração de conta -> X12 = Setembro à X17 = Abril (BILL_AMT_...)\n",
    "* *X18 -> X23:* Montante do pagamento anterior -> X18 = Setembro à X23 = Abril (PAY_AMT_...)\n",
    "* *X24:* Se a pessoa pagou, variável de interesse"
   ]
  },
  {
   "cell_type": "code",
   "execution_count": 181,
   "metadata": {},
   "outputs": [],
   "source": [
    "import pandas as pd\n",
    "import numpy as np\n",
    "\n",
    "df = pd.read_excel('default of credit card clients.xls')\n",
    "df = df.iloc[1:]\n",
    "\n",
    "# Drop records with minimum data\n",
    "df['X3'].replace(0, np.nan, inplace=True)\n",
    "df['X3'].dropna(inplace=True)\n",
    "df['X4'].replace(0, np.nan, inplace=True)\n",
    "df['X4'].dropna(inplace=True)\n",
    "    \n",
    "# # Substitute discrete values - Median\n",
    "# for i in range(6, 12):\n",
    "#     x_idx = f'X{str(i)}'\n",
    "    \n",
    "#     df[x_idx].replace(0, np.nan, inplace=True)\n",
    "#     df[x_idx].fillna(df[x_idx].median(skipna=True), inplace=True)\n",
    "    \n",
    "# Substitute discrete values - Mode\n",
    "for i in range(6, 12):\n",
    "    x_idx = f'X{str(i)}'\n",
    "    \n",
    "    np_array = df[x_idx].values\n",
    "    mode = pd.Series(np_array[np_array != 0]).mode()[0]\n",
    "    \n",
    "    df[x_idx].replace(0, np.nan, inplace=True)\n",
    "    df[x_idx].fillna(mode, inplace=True)\n",
    "\n",
    "# Substitute real values\n",
    "for i in range(12, 24):\n",
    "    x_idx = f'X{str(i)}'\n",
    "    sum_value = pd.to_numeric(df[x_idx], errors='coerce').sum()\n",
    "    amount = len(df[x_idx].nonzero()[0])\n",
    "    mean = sum_value/amount\n",
    "    \n",
    "    df[x_idx].replace(0, mean, inplace=True)"
   ]
  }
 ],
 "metadata": {
  "kernelspec": {
   "display_name": "Python 3",
   "language": "python",
   "name": "python3"
  },
  "language_info": {
   "codemirror_mode": {
    "name": "ipython",
    "version": 3
   },
   "file_extension": ".py",
   "mimetype": "text/x-python",
   "name": "python",
   "nbconvert_exporter": "python",
   "pygments_lexer": "ipython3",
   "version": "3.7.0"
  }
 },
 "nbformat": 4,
 "nbformat_minor": 2
}
