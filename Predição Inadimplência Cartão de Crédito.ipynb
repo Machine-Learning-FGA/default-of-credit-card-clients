{
 "cells": [
  {
   "cell_type": "markdown",
   "metadata": {},
   "source": [
    "# Predição Inadimplência Cartão de Crédito"
   ]
  },
  {
   "cell_type": "markdown",
   "metadata": {},
   "source": [
    "## Descrição dos dados\n",
    "\n",
    "* *X1:* Quanto foi dado de crédito em dólar (individual e família) (montante de crédito concedido)\n",
    "* *X2:* Gênero -> 1 = Masculino, 2 = Feminino\n",
    "* *X3:* Educação -> 1 = Pós-Graduação, 2 = Universidade, 3 = Ensino Médio, 4 = Outros\n",
    "* *X4:* Estado Civil -> 1 = Casado, 2 = Solteiro, 3 = Outros\n",
    "* *X5:* Idade\n",
    "* *X6 - X11:* Histórico de Pagamentos -> X6 = Setembro à X11 = Abril (PAY_...)\n",
    "    * -1: Pagou devidamente\n",
    "    *  1: Pagou com atraso de um mês\n",
    "    *  2: Pagou com atraso de dois meses\n",
    "    *  3: Pagou com atraso de três meses\n",
    "    ...\n",
    "    \n",
    "* *X12 - X17:* Quantia de declaração de conta -> X12 = Setembro à X17 = Abril (BILL_AMT_...)\n",
    "* *X18 -> X23:* Montante do pagamento anterior -> X18 = Setembro à X23 = Abril (PAY_AMT_...)\n",
    "* *X24:* Se a pessoa pagou, variável de interesse -> 1 = Sim, 2 = Não"
   ]
  },
  {
   "cell_type": "code",
   "execution_count": 1,
   "metadata": {
    "scrolled": true
   },
   "outputs": [],
   "source": [
    "import pandas as pd\n",
    "import numpy as np\n",
    "\n",
    "df = pd.read_excel('default of credit card clients.xls')\n",
    "labels = df.iloc[0].values\n",
    "df = df.iloc[1:]\n",
    "\n",
    "df = pd.get_dummies(df, columns=['X2', 'X3', 'X4'])"
   ]
  },
  {
   "cell_type": "code",
   "execution_count": 2,
   "metadata": {},
   "outputs": [
    {
     "data": {
      "text/plain": [
       "<matplotlib.axes._subplots.AxesSubplot at 0x7f262c650208>"
      ]
     },
     "execution_count": 2,
     "metadata": {},
     "output_type": "execute_result"
    }
   ],
   "source": [
    "# Heatmap with original data\n",
    "import seaborn as sns\n",
    "import matplotlib.pyplot as plt\n",
    "\n",
    "sns.set()\n",
    "df = df.astype(float)\n",
    "\n",
    "plt.figure(figsize=(10, 10))\n",
    "sns.heatmap(df.corr(), square=True, cmap='RdYlGn')"
   ]
  },
  {
   "cell_type": "code",
   "execution_count": 3,
   "metadata": {},
   "outputs": [
    {
     "ename": "SyntaxError",
     "evalue": "invalid syntax (<ipython-input-3-1e53afa3a12e>, line 6)",
     "output_type": "error",
     "traceback": [
      "\u001b[0;36m  File \u001b[0;32m\"<ipython-input-3-1e53afa3a12e>\"\u001b[0;36m, line \u001b[0;32m6\u001b[0m\n\u001b[0;31m    x_idx = f'X{str(i)}'\u001b[0m\n\u001b[0m                       ^\u001b[0m\n\u001b[0;31mSyntaxError\u001b[0m\u001b[0;31m:\u001b[0m invalid syntax\n"
     ]
    }
   ],
   "source": [
    "# Drop records with minimum data\n",
    "df.drop(inplace=True, columns=['X3_0', 'X4_0', 'X3_5', 'X3_6', 'X15', 'X16', 'X17'])\n",
    "\n",
    "# Substitute discrete values - Mode\n",
    "for i in range(6, 12):\n",
    "    x_idx = f'X{str(i)}'\n",
    "    \n",
    "    np_array = df[x_idx].values\n",
    "    mode = pd.Series(np_array[np_array != 0]).mode()[0]\n",
    "    \n",
    "    df[x_idx].replace(-2, np.nan, inplace=True)\n",
    "    df[x_idx].fillna(mode, inplace=True)\n",
    "\n",
    "# # Substitute discrete values - Median\n",
    "# for i in range(6, 12):\n",
    "#     x_idx = f'X{str(i)}'\n",
    "    \n",
    "#     df[x_idx].replace(0, np.nan, inplace=True)\n",
    "#     df[x_idx].fillna(df[x_idx].median(skipna=True), inplace=True)\n",
    "\n",
    "# Substitute real values\n",
    "for i in range(12, 24):\n",
    "    if i not in [15, 16, 17]:\n",
    "        x_idx = f'X{str(i)}'\n",
    "        sum_value = pd.to_numeric(df[x_idx], errors='coerce').sum()\n",
    "        amount = len(df[x_idx].nonzero()[0])\n",
    "        mean = sum_value/amount\n",
    "\n",
    "        df[x_idx].replace(0, mean, inplace=True)"
   ]
  },
  {
   "cell_type": "code",
   "execution_count": null,
   "metadata": {},
   "outputs": [],
   "source": [
    "# Heatmap with sliced data\n",
    "import seaborn as sns\n",
    "import matplotlib.pyplot as plt\n",
    "\n",
    "sns.set()\n",
    "df = df.astype(float)\n",
    "\n",
    "plt.figure(figsize=(10, 10))\n",
    "sns.heatmap(df.corr(), square=True, cmap='RdYlGn')"
   ]
  },
  {
   "cell_type": "code",
   "execution_count": null,
   "metadata": {},
   "outputs": [],
   "source": [
    "# Split training data and test data\n",
    "from sklearn.model_selection import train_test_split\n",
    "\n",
    "target = df['Y'].values\n",
    "data = df.drop('Y', axis=1).values\n",
    "\n",
    "X_train, X_test, y_train, y_test = train_test_split(\n",
    "    data, target, test_size=0.35, random_state=42, stratify=target)"
   ]
  },
  {
   "cell_type": "code",
   "execution_count": null,
   "metadata": {
    "scrolled": true
   },
   "outputs": [],
   "source": [
    "# Using KNN mathematical model to calculate performance.\n",
    "from sklearn.neighbors import KNeighborsClassifier\n",
    "from sklearn.metrics import classification_report\n",
    "\n",
    "knn = KNeighborsClassifier(n_neighbors=10)\n",
    "knn.fit(X_train, y_train)\n",
    "\n",
    "y_pred = knn.predict(X_test)\n",
    "\n",
    "print(classification_report(y_test, y_pred, target_names=['PAID', 'NOT PAID']))\n",
    "print(knn.score(X_test, y_test))"
   ]
  },
  {
   "cell_type": "code",
   "execution_count": null,
   "metadata": {},
   "outputs": [],
   "source": [
    "# Barplot of Y    \n",
    "plt.figure(figsize=(10,8))\n",
    "barlist = plt.bar(df.Y.unique(),df.Y.value_counts())\n",
    "barlist[0].set_color('r')\n",
    "plt.xticks(df.Y.unique(),('Unpaid','Paid'))\n",
    "plt.ylabel('count')\n",
    "plt.show()"
   ]
  },
  {
   "cell_type": "code",
   "execution_count": null,
   "metadata": {},
   "outputs": [],
   "source": [
    "# Barplot of Payment History\n",
    "plt.figure(figsize=(10,10))\n",
    "barlist = plt.bar(df.X6.unique(),df.X6.value_counts())\n",
    "barlist[0].set_color('r')\n",
    "plt.xticks(df.X6.unique(),str(df.X6.unique()).replace('[', '').replace(']', '').split('. '))\n",
    "plt.ylabel('Count')\n",
    "plt.xlabel('Payment months delay')\n",
    "plt.show()"
   ]
  },
  {
   "cell_type": "code",
   "execution_count": null,
   "metadata": {},
   "outputs": [],
   "source": [
    "import pandas as pd\n",
    "from sklearn.manifold import TSNE\n",
    "from matplotlib import pyplot as plt\n",
    "\n",
    "X = df.drop(['Y'],axis=1)\n",
    "X = df.head(1000)\n",
    "\n",
    "y = df['Y'].head(1000)\n",
    "y = y.values\n",
    "\n",
    "tsne = TSNE(n_components=2, random_state=0)\n",
    "\n",
    "X_2d = tsne.fit_transform(X.values)\n",
    "target_ids = range(len((df.Y.unique())))\n",
    "\n",
    "colors = 'r', 'g', 'b', 'c', 'm', 'y', 'k', 'w', 'orange', 'purple'\n",
    "for i, c, label in zip(target_ids, colors, ('NÃO PAGOU', 'PAGOU')):\n",
    "    plt.scatter(X_2d[y == i, 0], X_2d[y == i, 1], c=c, label=label)\n",
    "plt.legend()\n",
    "plt.show()"
   ]
  },
  {
   "cell_type": "code",
   "execution_count": 9,
   "metadata": {},
   "outputs": [
    {
     "name": "stdout",
     "output_type": "stream",
     "text": [
      "              precision    recall  f1-score   support\n",
      "\n",
      "        PAID       0.78      1.00      0.87      8177\n",
      "    NOT PAID       0.24      0.00      0.01      2323\n",
      "\n",
      "   micro avg       0.78      0.78      0.78     10500\n",
      "   macro avg       0.51      0.50      0.44     10500\n",
      "weighted avg       0.66      0.78      0.68     10500\n",
      "\n",
      "Accuracy:  0.7767619047619048\n"
     ]
    }
   ],
   "source": [
    "import pandas as pd\n",
    "from sklearn.metrics import classification_report\n",
    "from sklearn.model_selection import train_test_split\n",
    "from sklearn.linear_model import SGDClassifier\n",
    "import pandas as pd\n",
    "\n",
    "\n",
    "\n",
    "target = df['Y'].values\n",
    "data = df.drop('Y', axis=1).values\n",
    "\n",
    "X_train, X_test, y_train, y_test = train_test_split(\n",
    "    data, target, test_size=0.35, random_state=42, stratify=target)\n",
    "\n",
    "\n",
    "clf = SGDClassifier(alpha=0.0001, average=False, class_weight=None,\n",
    "           early_stopping=False, epsilon=0.1, eta0=0.0, fit_intercept=True,\n",
    "           l1_ratio=0.15, learning_rate='optimal', loss='hinge', max_iter=5,\n",
    "           n_iter=None, n_iter_no_change=5, n_jobs=None, penalty='l2',\n",
    "           power_t=0.5, random_state=None, shuffle=True, tol=None,\n",
    "           validation_fraction=0.1, verbose=0, warm_start=False)\n",
    "clf.fit(list(X_train), list(y_train))\n",
    "\n",
    "y_pred = clf.predict(X_test)\n",
    "print(classification_report(y_test, y_pred.round(), target_names=['PAID', 'NOT PAID']))\n",
    "print('Accuracy: ', clf.score(X_test,y_test))\n",
    "\n"
   ]
  },
  {
   "cell_type": "code",
   "execution_count": null,
   "metadata": {},
   "outputs": [],
   "source": []
  }
 ],
 "metadata": {
  "kernelspec": {
   "display_name": "Python 3",
   "language": "python",
   "name": "python3"
  },
  "language_info": {
   "codemirror_mode": {
    "name": "ipython",
    "version": 3
   },
   "file_extension": ".py",
   "mimetype": "text/x-python",
   "name": "python",
   "nbconvert_exporter": "python",
   "pygments_lexer": "ipython3",
   "version": "3.5.2"
  }
 },
 "nbformat": 4,
 "nbformat_minor": 2
}
